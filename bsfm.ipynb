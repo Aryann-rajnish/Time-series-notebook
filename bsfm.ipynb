{
 "cells": [
  {
   "cell_type": "code",
   "execution_count": 38,
   "metadata": {},
   "outputs": [],
   "source": [
    "import numpy as np\n",
    "import math"
   ]
  },
  {
   "cell_type": "code",
   "execution_count": 39,
   "metadata": {},
   "outputs": [],
   "source": [
    "import scipy.stats as ss\n",
    "import time"
   ]
  },
  {
   "cell_type": "code",
   "execution_count": 40,
   "metadata": {},
   "outputs": [],
   "source": [
    "def d1(S0,K,r,T,sigma):\n",
    "    return (np.log(S0/K)+(r + sigma**2/2)*T)/(sigma * np.sqrt(T))"
   ]
  },
  {
   "cell_type": "code",
   "execution_count": 41,
   "metadata": {},
   "outputs": [],
   "source": [
    "def d2(S0,K,r,T,sigma):\n",
    "    return (np.log(S0/K)+(r - sigma**2/2)*T)/(sigma * np.sqrt(T))"
   ]
  },
  {
   "cell_type": "code",
   "execution_count": 42,
   "metadata": {},
   "outputs": [],
   "source": [
    "def bsf(type,S0,K,r,T,sigma):\n",
    "    if type ==\"call\":\n",
    "        return S0 * ss.norm.cdf(d1(S0,K,r,T,sigma)) - K *np.exp(-r*T) * ss.norm.cdf(d2(S0,K,r,T,sigma))\n",
    "    else:\n",
    "        return K *np.exp(-r*T) * ss.norm.cdf(-d2(S0,K,r,T,sigma)) - S0 * ss.norm.cdf(-d1(S0,K,r,T,sigma))"
   ]
  },
  {
   "cell_type": "code",
   "execution_count": 43,
   "metadata": {},
   "outputs": [],
   "source": [
    "S0 = 235 # spot price\n",
    "K = 270 # strike price\n",
    "r=0.1 # intereset rate without dividend\n",
    "sigma = 0.53 # implied volatility\n",
    "T = 12/260 # trading time in year\n",
    "option_type='call'"
   ]
  },
  {
   "cell_type": "code",
   "execution_count": 44,
   "metadata": {},
   "outputs": [
    {
     "name": "stdout",
     "output_type": "stream",
     "text": [
      "S0\tstock price at time 0: 235\n",
      "K\tstrike price: 270\n",
      "r\tcontinuously compounded risk-free rate: 0.1\n",
      "sigma\tvolatility of the stock price per year: 0.53\n",
      "T\ttime to maturity in trading years: 0.046153846153846156\n"
     ]
    }
   ],
   "source": [
    "print(\"S0\\tstock price at time 0:\", S0)\n",
    "print(\"K\\tstrike price:\", K)\n",
    "print(\"r\\tcontinuously compounded risk-free rate:\", r)\n",
    "print(\"sigma\\tvolatility of the stock price per year:\", sigma)\n",
    "print(\"T\\ttime to maturity in trading years:\", T)"
   ]
  },
  {
   "cell_type": "code",
   "execution_count": 45,
   "metadata": {},
   "outputs": [
    {
     "name": "stdout",
     "output_type": "stream",
     "text": [
      "c_BS\tBlack-Scholes price: 0.013927723839944006 0.006755352020263672\n"
     ]
    }
   ],
   "source": [
    "t=time.time()\n",
    "c_BS = bsf(option_type,S0, K, r, sigma, T)\n",
    "elapsed=time.time()-t\n",
    "print(\"c_BS\\tBlack-Scholes price:\", c_BS, elapsed)"
   ]
  },
  {
   "cell_type": "code",
   "execution_count": null,
   "metadata": {},
   "outputs": [],
   "source": []
  }
 ],
 "metadata": {
  "kernelspec": {
   "display_name": "Python 3",
   "language": "python",
   "name": "python3"
  },
  "language_info": {
   "codemirror_mode": {
    "name": "ipython",
    "version": 3
   },
   "file_extension": ".py",
   "mimetype": "text/x-python",
   "name": "python",
   "nbconvert_exporter": "python",
   "pygments_lexer": "ipython3",
   "version": "3.6.5"
  }
 },
 "nbformat": 4,
 "nbformat_minor": 2
}
